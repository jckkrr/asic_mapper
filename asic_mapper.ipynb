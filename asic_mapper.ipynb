{
 "cells": [
  {
   "cell_type": "markdown",
   "id": "1d768e13-5647-40c9-bcaa-b8bf7273ef05",
   "metadata": {},
   "source": [
    "### ASIC Mapper\n",
    "\n",
    "Company records are an essential part of many investigations. This script takes company record PDFs from the Australian Securities & Investments Commission (ASIC) and converts them into an interactive network graph, in order to more easily find otherwise obscure connections between companies. \n",
    "\n",
    "It uses the fitz library to tabularise PDFs, then PyPDF2 to map out the interactive network graph.  "
   ]
  },
  {
   "cell_type": "code",
   "execution_count": 1,
   "id": "c58274aa-8609-47d3-90c1-ca00bfd026f2",
   "metadata": {},
   "outputs": [],
   "source": [
    "import PyPDF2\n",
    "import fitz\n",
    "import os\n",
    "import pandas as pd\n",
    "import pyvis\n",
    "from pyvis.network import Network\n",
    "import networkx as nx"
   ]
  },
  {
   "cell_type": "code",
   "execution_count": 2,
   "id": "1243fcd1-c064-455b-880d-0de4eba56b18",
   "metadata": {},
   "outputs": [],
   "source": [
    "def convert_PDFs_to_DatFrame(directory_where_PDFs_are):\n",
    "\n",
    "    df = pd.DataFrame()\n",
    "    \n",
    "    files = [f for f in os.listdir(directory_where_PDFs_are) if '.pdf' in f] \n",
    "    \n",
    "    for file in files:\n",
    "        \n",
    "        doc = fitz.open(f'{directory_where_PDFs_are}/{file}')\n",
    "        \n",
    "        for page in doc:\n",
    "            text = page.get_text()     \n",
    "            \n",
    "            lines = text.split('\\n')\n",
    "            \n",
    "            for n in range(0, len(lines)-1):\n",
    "                \n",
    "                line = lines[n].strip()\n",
    "                \n",
    "                if ':' in line and ':' == line[-1]:\n",
    "                    key = line.replace(':','').strip()\n",
    "                    \n",
    "                    value = lines[n+1]\n",
    "                \n",
    "                    \n",
    "                    if key in ['Address'] :\n",
    "                        \n",
    "                        if ':' not in lines[n+2] and 'Class' not in lines[n+2]:\n",
    "                            value = lines[n+1] + lines[n+2]\n",
    "                                                        \n",
    "                    df.loc[df.shape[0]+1, ['file', 'key', 'value']] = [file.replace('.pdf',''), key.strip().upper(), value.replace('  ',' ').strip().upper()]\n",
    "        \n",
    "    df = df.drop_duplicates()\n",
    "        \n",
    "    return df"
   ]
  },
  {
   "cell_type": "code",
   "execution_count": 43,
   "id": "ed563d57-bb86-435e-a9bf-3500675f2ed5",
   "metadata": {},
   "outputs": [],
   "source": [
    "## Make df and really strip it down to the essentials: names, addresses, ABNs/ACNs\n",
    "\n",
    "def simplify_the_DataFrame(df):\n",
    "    \n",
    "    dfSIMPLE = df\n",
    "\n",
    "    dfSIMPLE = dfSIMPLE.loc[~dfSIMPLE['file'].isin(exclude_pdfs)]\n",
    "    dfSIMPLE = dfSIMPLE.loc[~dfSIMPLE['value'].isin(exclude_values)]\n",
    "    dfSIMPLE = dfSIMPLE.loc[~dfSIMPLE['key'].isin(exclude_keys)]\n",
    "\n",
    "    dfSIMPLE.loc[dfSIMPLE['key'].isin(['Registered address', 'Business address']), 'key'] = 'ADDRESS'\n",
    "\n",
    "    dfSIMPLE = dfSIMPLE.drop_duplicates()\n",
    "\n",
    "    for index, row in dfSIMPLE.iterrows():\n",
    "            \n",
    "        for key in simplify_addresses:\n",
    "            \n",
    "            \n",
    "            if key in row['value']:\n",
    "                                    \n",
    "                dfSIMPLE.loc[index, 'value'] = simplify_addresses[key]\n",
    "        \n",
    "    return dfSIMPLE"
   ]
  },
  {
   "cell_type": "code",
   "execution_count": 44,
   "id": "0f46c669-417f-4043-9b31-e62daf771109",
   "metadata": {},
   "outputs": [],
   "source": [
    "def make_interactive_network_graph(df):\n",
    "    \n",
    "    ### create nodes and edges\n",
    "    \n",
    "    dimension_size = 1000\n",
    "    g=Network(height=dimension_size, width=dimension_size, notebook=True, directed=True)\n",
    "\n",
    "    for index, row in df.iterrows():\n",
    "\n",
    "        source, target, edge_text = row['file'], row['value'], row['key']\n",
    "\n",
    "        source_color = 'silver'\n",
    "        target_color = 'silver'\n",
    "\n",
    "        g.add_node(source, color=source_color)\n",
    "        g.add_node(target, color=target_color)\n",
    "        g.add_edge(source, target, weight=5, title=edge_text, color='#aaccff')\n",
    "\n",
    "    ####  format graph   \n",
    "\n",
    "    node_colors = {}\n",
    "\n",
    "    files = [x for x in df['file'].unique()]\n",
    "\n",
    "    degrees = pd.concat([df['file'], df['value']])\n",
    "\n",
    "    for node in g.nodes:\n",
    "\n",
    "        node['borderWidth'] = 1\n",
    "        node['borderWidthSelected'] = 2\n",
    "\n",
    "        if node['id'] in files:\n",
    "            node['color'] = 'pink'\n",
    "            node['size'] = int(degrees.value_counts()[node['id']]) * 10\n",
    "            node['shape'] = 'circle'\n",
    "\n",
    "            node['label'] = df.loc[(df['file']==node['id']) & (df['key']=='NAME'), 'value'].values[0].replace('AUSTRALIA','AUS').replace('AUSTRALIAN','AUS')[0:10]\n",
    "\n",
    "        elif int(degrees.value_counts()[node['id']]) > 1:\n",
    "            node['color'] = '#550022'\n",
    "            node['size'] = int(degrees.value_counts()[node['id']]) * 2\n",
    "\n",
    "        else:\n",
    "            node['size'] = 1\n",
    "\n",
    "\n",
    "    pyvis.options.Layout(improvedLayout=True)\n",
    "    \n",
    "    return g"
   ]
  },
  {
   "cell_type": "code",
   "execution_count": 45,
   "id": "6dbf4002-8fbb-4462-a6d8-7d9145b27cb2",
   "metadata": {},
   "outputs": [],
   "source": [
    "exclude_pdfs = ['2d3132303738333036313', '2d3134343731373030343', '2d3332393933313038353', '2d3439383731393736323', '383532333137393537323', '2d3839383238393439353', '373730323339383630323', '363536363032383233323', '383935353632313435383', '363536363032383233323']    \n",
    "exclude_values = ['LIMITED BY SHARES', 'REGISTERED', 'DEREGISTERED', 'STRIKE-OFF ACTION IN PROGRESS', 'AUSTRALIAN PROPRIETARY COMPANY', 'PROPRIETARY COMPANY', 'AUSTRALIAN PUBLIC COMPANY', 'UNKNOWN', 'LIMITED BY GUARANTEE', 'LISTED PUBLIC COMPANY']\n",
    "exclude_keys = ['REGISTERED IN', 'APPOINTMENT DATE', 'BORN', 'START DATE', 'REGISTRATION DATE', 'NEXT REVIEW DATE', 'NAME START DATE', 'CEASE DATE', 'DATE DEREGISTERED', 'DEREGISTRATION REASON', 'DEREGISTRATION CODE', 'PREVIOUS STATE NUMBER', 'SUBCLASS', 'NAME START']"
   ]
  },
  {
   "cell_type": "code",
   "execution_count": 46,
   "id": "f08bf47e-f3b9-40ba-8cde-ca60bf33c92e",
   "metadata": {},
   "outputs": [],
   "source": [
    "simplify_addresses = {\n",
    "    'SUITE 401, 54 MILLER STREET, NORTH SYDNEY NSW 2060': '401 / 54 MILLER STREET, NORTH SYDNEY',\n",
    "    '8 BEULAH': 'ADCREDA ACCOUNTING', \n",
    "    '245 FULLARTON': 'ADCREDA ACCOUNTING', \n",
    "    'GPO BOX 2447, ADELAIDE': 'ADCREDA ACCOUNTING', \n",
    "    'ADCREDA ACCOUNTING': 'ADCREDA ACCOUNTING', \n",
    "}"
   ]
  },
  {
   "cell_type": "code",
   "execution_count": 47,
   "id": "8bf1ceae-c507-4eec-a131-d470e3628791",
   "metadata": {},
   "outputs": [
    {
     "data": {
      "text/html": [
       "\n",
       "        <iframe\n",
       "            width=\"1000\"\n",
       "            height=\"1000\"\n",
       "            src=\"test.html\"\n",
       "            frameborder=\"0\"\n",
       "            allowfullscreen\n",
       "        ></iframe>\n",
       "        "
      ],
      "text/plain": [
       "<IPython.lib.display.IFrame at 0x19c6850b460>"
      ]
     },
     "execution_count": 47,
     "metadata": {},
     "output_type": "execute_result"
    }
   ],
   "source": [
    "df = convert_PDFs_to_DatFrame('documents')\n",
    "dfSIMPLE = simplify_the_DataFrame(df)\n",
    "g = make_interactive_network_graph(dfSIMPLE)\n",
    "\n",
    "g.show('test.html')"
   ]
  },
  {
   "cell_type": "code",
   "execution_count": null,
   "id": "27eba4d7-7fa4-41c5-8792-0a1c2c3b288a",
   "metadata": {},
   "outputs": [],
   "source": []
  },
  {
   "cell_type": "code",
   "execution_count": null,
   "id": "8c86f912-e713-4bff-8e18-fd7f8ade3114",
   "metadata": {},
   "outputs": [],
   "source": []
  },
  {
   "cell_type": "code",
   "execution_count": null,
   "id": "4e9ed991-23fb-406c-8608-825764d2b07c",
   "metadata": {},
   "outputs": [],
   "source": []
  }
 ],
 "metadata": {
  "kernelspec": {
   "display_name": "Python 3",
   "language": "python",
   "name": "python3"
  },
  "language_info": {
   "codemirror_mode": {
    "name": "ipython",
    "version": 3
   },
   "file_extension": ".py",
   "mimetype": "text/x-python",
   "name": "python",
   "nbconvert_exporter": "python",
   "pygments_lexer": "ipython3",
   "version": "3.9.4"
  }
 },
 "nbformat": 4,
 "nbformat_minor": 5
}
